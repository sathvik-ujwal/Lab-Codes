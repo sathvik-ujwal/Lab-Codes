{
 "cells": [
  {
   "cell_type": "code",
   "execution_count": 1,
   "metadata": {},
   "outputs": [
    {
     "name": "stderr",
     "output_type": "stream",
     "text": [
      "/usr/lib/python3/dist-packages/scipy/__init__.py:146: UserWarning: A NumPy version >=1.17.3 and <1.25.0 is required for this version of SciPy (detected version 1.26.0\n",
      "  warnings.warn(f\"A NumPy version >={np_minversion} and <{np_maxversion}\"\n",
      "Setting default log level to \"WARN\".\n",
      "To adjust logging level use sc.setLogLevel(newLevel). For SparkR, use setLogLevel(newLevel).\n",
      "24/09/16 10:45:47 WARN NativeCodeLoader: Unable to load native-hadoop library for your platform... using builtin-java classes where applicable\n"
     ]
    }
   ],
   "source": [
    "import requests\n",
    "from pyspark.sql import SparkSession\n",
    "from pyspark.ml.feature import VectorAssembler, StandardScaler\n",
    "from pyspark.ml.clustering import KMeans\n",
    "from pyspark.sql.functions import col, udf\n",
    "from pyspark.sql.types import DoubleType\n",
    "from pyspark.ml.linalg import DenseVector\n",
    "import numpy as np\n",
    "import os\n",
    "\n",
    "spark = SparkSession.builder.appName(\"AnomalyDetectionKMeans\").getOrCreate()\n",
    "\n",
    "url = \"https://archive.ics.uci.edu/ml/machine-learning-databases/iris/iris.data\"\n",
    "local_path = \"/tmp/iris.data\"\n",
    "\n",
    "response = requests.get(url)\n",
    "with open(local_path, 'wb') as f:\n",
    "    f.write(response.content)\n"
   ]
  },
  {
   "cell_type": "code",
   "execution_count": 2,
   "metadata": {},
   "outputs": [],
   "source": [
    "data = spark.read.csv(local_path, header=False, inferSchema=True)\n",
    "\n",
    "data = data.withColumnRenamed(\"_c0\", \"sepal_length\") \\\n",
    "           .withColumnRenamed(\"_c1\", \"sepal_width\") \\\n",
    "           .withColumnRenamed(\"_c2\", \"petal_length\") \\\n",
    "           .withColumnRenamed(\"_c3\", \"petal_width\") \\\n",
    "           .withColumnRenamed(\"_c4\", \"class\")\n",
    "\n",
    "data = data.dropna()\n",
    "\n",
    "assembler = VectorAssembler(\n",
    "    inputCols=[\"sepal_length\", \"sepal_width\", \"petal_length\", \"petal_width\"],\n",
    "    outputCol=\"features\"\n",
    ")\n",
    "assembled_data = assembler.transform(data)\n",
    "\n",
    "scaler = StandardScaler(inputCol=\"features\", outputCol=\"scaled_features\")\n",
    "scaler_model = scaler.fit(assembled_data)\n",
    "scaled_data = scaler_model.transform(assembled_data)\n"
   ]
  },
  {
   "cell_type": "code",
   "execution_count": 3,
   "metadata": {},
   "outputs": [
    {
     "name": "stderr",
     "output_type": "stream",
     "text": [
      "24/09/16 10:45:54 WARN InstanceBuilder: Failed to load implementation from:dev.ludovic.netlib.blas.VectorBLAS\n"
     ]
    }
   ],
   "source": [
    "k = 3\n",
    "kmeans = KMeans().setK(k).setSeed(1).setFeaturesCol(\"scaled_features\").setPredictionCol(\"cluster\")\n",
    "model = kmeans.fit(scaled_data)\n",
    "clustered_data = model.transform(scaled_data)\n",
    "\n",
    "centers = model.clusterCenters()\n"
   ]
  },
  {
   "cell_type": "code",
   "execution_count": 4,
   "metadata": {},
   "outputs": [],
   "source": [
    "def euclidean_distance(point, center):\n",
    "    point_array = np.array(point)\n",
    "    center_array = np.array(center)\n",
    "    return float(np.linalg.norm(point_array - center_array))\n",
    "\n",
    "distance_udf = udf(lambda point, cluster: euclidean_distance(point, centers[cluster]), DoubleType())\n",
    "\n",
    "distance_data = clustered_data.withColumn(\"distance\", distance_udf(col(\"scaled_features\"), col(\"cluster\")))\n",
    "\n",
    "threshold = 1.0\n",
    "anomalies = distance_data.filter(col(\"distance\") > threshold)\n"
   ]
  },
  {
   "cell_type": "code",
   "execution_count": 5,
   "metadata": {},
   "outputs": [],
   "source": [
    "from pyspark.sql.functions import avg\n",
    "\n",
    "avg_distance = distance_data.groupBy(\"cluster\").agg(avg(\"distance\").alias(\"avg_distance\"))\n"
   ]
  },
  {
   "cell_type": "code",
   "execution_count": 6,
   "metadata": {},
   "outputs": [
    {
     "name": "stdout",
     "output_type": "stream",
     "text": [
      "Clustered Data:\n",
      "+------------+-----------+------------+-----------+-----------+-----------------+--------------------+-------+\n",
      "|sepal_length|sepal_width|petal_length|petal_width|      class|         features|     scaled_features|cluster|\n",
      "+------------+-----------+------------+-----------+-----------+-----------------+--------------------+-------+\n",
      "|         5.1|        3.5|         1.4|        0.2|Iris-setosa|[5.1,3.5,1.4,0.2]|[6.15892840883878...|      1|\n",
      "|         4.9|        3.0|         1.4|        0.2|Iris-setosa|[4.9,3.0,1.4,0.2]|[5.9174018045706,...|      1|\n",
      "|         4.7|        3.2|         1.3|        0.2|Iris-setosa|[4.7,3.2,1.3,0.2]|[5.67587520030241...|      1|\n",
      "|         4.6|        3.1|         1.5|        0.2|Iris-setosa|[4.6,3.1,1.5,0.2]|[5.55511189816831...|      1|\n",
      "|         5.0|        3.6|         1.4|        0.2|Iris-setosa|[5.0,3.6,1.4,0.2]|[6.03816510670469...|      1|\n",
      "|         5.4|        3.9|         1.7|        0.4|Iris-setosa|[5.4,3.9,1.7,0.4]|[6.52121831524107...|      1|\n",
      "|         4.6|        3.4|         1.4|        0.3|Iris-setosa|[4.6,3.4,1.4,0.3]|[5.55511189816831...|      1|\n",
      "|         5.0|        3.4|         1.5|        0.2|Iris-setosa|[5.0,3.4,1.5,0.2]|[6.03816510670469...|      1|\n",
      "|         4.4|        2.9|         1.4|        0.2|Iris-setosa|[4.4,2.9,1.4,0.2]|[5.31358529390013...|      1|\n",
      "|         4.9|        3.1|         1.5|        0.1|Iris-setosa|[4.9,3.1,1.5,0.1]|[5.9174018045706,...|      1|\n",
      "|         5.4|        3.7|         1.5|        0.2|Iris-setosa|[5.4,3.7,1.5,0.2]|[6.52121831524107...|      1|\n",
      "|         4.8|        3.4|         1.6|        0.2|Iris-setosa|[4.8,3.4,1.6,0.2]|[5.79663850243650...|      1|\n",
      "|         4.8|        3.0|         1.4|        0.1|Iris-setosa|[4.8,3.0,1.4,0.1]|[5.79663850243650...|      1|\n",
      "|         4.3|        3.0|         1.1|        0.1|Iris-setosa|[4.3,3.0,1.1,0.1]|[5.19282199176603...|      1|\n",
      "|         5.8|        4.0|         1.2|        0.2|Iris-setosa|[5.8,4.0,1.2,0.2]|[7.00427152377744...|      1|\n",
      "|         5.7|        4.4|         1.5|        0.4|Iris-setosa|[5.7,4.4,1.5,0.4]|[6.88350822164335...|      1|\n",
      "|         5.4|        3.9|         1.3|        0.4|Iris-setosa|[5.4,3.9,1.3,0.4]|[6.52121831524107...|      1|\n",
      "|         5.1|        3.5|         1.4|        0.3|Iris-setosa|[5.1,3.5,1.4,0.3]|[6.15892840883878...|      1|\n",
      "|         5.7|        3.8|         1.7|        0.3|Iris-setosa|[5.7,3.8,1.7,0.3]|[6.88350822164335...|      1|\n",
      "|         5.1|        3.8|         1.5|        0.3|Iris-setosa|[5.1,3.8,1.5,0.3]|[6.15892840883878...|      1|\n",
      "+------------+-----------+------------+-----------+-----------+-----------------+--------------------+-------+\n",
      "only showing top 20 rows\n",
      "\n",
      "Anomalies Detected:\n"
     ]
    },
    {
     "name": "stderr",
     "output_type": "stream",
     "text": [
      "/usr/lib/python3/dist-packages/scipy/__init__.py:146: UserWarning: A NumPy version >=1.17.3 and <1.25.0 is required for this version of SciPy (detected version 1.26.0\n",
      "  warnings.warn(f\"A NumPy version >={np_minversion} and <{np_maxversion}\"\n",
      "/usr/lib/python3/dist-packages/scipy/__init__.py:146: UserWarning: A NumPy version >=1.17.3 and <1.25.0 is required for this version of SciPy (detected version 1.26.0\n",
      "  warnings.warn(f\"A NumPy version >={np_minversion} and <{np_maxversion}\"\n",
      "/usr/lib/python3/dist-packages/scipy/__init__.py:146: UserWarning: A NumPy version >=1.17.3 and <1.25.0 is required for this version of SciPy (detected version 1.26.0\n",
      "  warnings.warn(f\"A NumPy version >={np_minversion} and <{np_maxversion}\"\n"
     ]
    },
    {
     "name": "stdout",
     "output_type": "stream",
     "text": [
      "+------------+-----------+------------+-----------+---------------+-----------------+--------------------+-------+------------------+\n",
      "|sepal_length|sepal_width|petal_length|petal_width|          class|         features|     scaled_features|cluster|          distance|\n",
      "+------------+-----------+------------+-----------+---------------+-----------------+--------------------+-------+------------------+\n",
      "|         4.9|        3.0|         1.4|        0.2|    Iris-setosa|[4.9,3.0,1.4,0.2]|[5.9174018045706,...|      1| 1.028559608477677|\n",
      "|         5.4|        3.9|         1.7|        0.4|    Iris-setosa|[5.4,3.9,1.7,0.4]|[6.52121831524107...|      1| 1.181517372451085|\n",
      "|         4.4|        2.9|         1.4|        0.2|    Iris-setosa|[4.4,2.9,1.4,0.2]|[5.31358529390013...|      1|1.4540670850199389|\n",
      "|         4.8|        3.0|         1.4|        0.1|    Iris-setosa|[4.8,3.0,1.4,0.1]|[5.79663850243650...|      1| 1.066927932824046|\n",
      "|         4.3|        3.0|         1.1|        0.1|    Iris-setosa|[4.3,3.0,1.1,0.1]|[5.19282199176603...|      1|1.3639297641749304|\n",
      "|         5.8|        4.0|         1.2|        0.2|    Iris-setosa|[5.8,4.0,1.2,0.2]|[7.00427152377744...|      1|1.6077798553186267|\n",
      "|         5.7|        4.4|         1.5|        0.4|    Iris-setosa|[5.7,4.4,1.5,0.4]|[6.88350822164335...|      1|2.3702511377887734|\n",
      "|         5.4|        3.9|         1.3|        0.4|    Iris-setosa|[5.4,3.9,1.3,0.4]|[6.52121831524107...|      1| 1.177961110708267|\n",
      "|         5.7|        3.8|         1.7|        0.3|    Iris-setosa|[5.7,3.8,1.7,0.3]|[6.88350822164335...|      1|1.1793543226545056|\n",
      "|         5.0|        3.0|         1.6|        0.2|    Iris-setosa|[5.0,3.0,1.6,0.2]|[6.03816510670469...|      1|1.0211682062983969|\n",
      "|         5.2|        4.1|         1.5|        0.1|    Iris-setosa|[5.2,4.1,1.5,0.1]|[6.27969171097288...|      1|1.5478457665339285|\n",
      "|         5.5|        4.2|         1.4|        0.2|    Iris-setosa|[5.5,4.2,1.4,0.2]|[6.64198161737516...|      1|1.8470142536237084|\n",
      "|         4.4|        3.0|         1.3|        0.2|    Iris-setosa|[4.4,3.0,1.3,0.2]|[5.31358529390013...|      1|1.2647987836975352|\n",
      "|         4.5|        2.3|         1.3|        0.3|    Iris-setosa|[4.5,2.3,1.3,0.3]|[5.43434859603422...|      2|2.6966833060208595|\n",
      "|         4.8|        3.0|         1.4|        0.3|    Iris-setosa|[4.8,3.0,1.4,0.3]|[5.79663850243650...|      1| 1.053043724915028|\n",
      "|         4.9|        2.4|         3.3|        1.0|Iris-versicolor|[4.9,2.4,3.3,1.0]|[5.9174018045706,...|      2|1.3022058764432674|\n",
      "|         6.6|        2.9|         4.6|        1.3|Iris-versicolor|[6.6,2.9,4.6,1.3]|[7.97037794085019...|      0|1.0315169123521306|\n",
      "|         5.0|        2.0|         3.5|        1.0|Iris-versicolor|[5.0,2.0,3.5,1.0]|[6.03816510670469...|      2|1.7947340934404534|\n",
      "|         6.0|        2.2|         4.0|        1.0|Iris-versicolor|[6.0,2.2,4.0,1.0]|[7.24579812804563...|      2|1.1566296447669646|\n",
      "|         6.2|        2.2|         4.5|        1.5|Iris-versicolor|[6.2,2.2,4.5,1.5]|[7.48732473231382...|      2|1.1991374226185396|\n",
      "+------------+-----------+------------+-----------+---------------+-----------------+--------------------+-------+------------------+\n",
      "only showing top 20 rows\n",
      "\n",
      "Average Distance of Points from Cluster Centers:\n",
      "+-------+------------------+\n",
      "|cluster|      avg_distance|\n",
      "+-------+------------------+\n",
      "|      1|0.7845521580838921|\n",
      "|      2|0.8704547186083053|\n",
      "|      0|0.9279295567394236|\n",
      "+-------+------------------+\n",
      "\n",
      "Cluster Centers:\n",
      "Cluster 0: [8.08674985 7.05728816 3.07079977 2.53967705]\n",
      "Cluster 1: [6.05788156 7.93556612 0.83163112 0.31822541]\n",
      "Cluster 2: [6.8887588  6.07660788 2.38900964 1.7461704 ]\n"
     ]
    }
   ],
   "source": [
    "print(\"Clustered Data:\")\n",
    "clustered_data.show()\n",
    "\n",
    "print(\"Anomalies Detected:\")\n",
    "anomalies.show()\n",
    "\n",
    "print(\"Average Distance of Points from Cluster Centers:\")\n",
    "avg_distance.show()\n",
    "\n",
    "print(\"Cluster Centers:\")\n",
    "for i, center in enumerate(centers):\n",
    "    print(f\"Cluster {i}: {center}\")\n",
    "\n",
    "os.remove(local_path)\n",
    "\n",
    "spark.stop()\n"
   ]
  },
  {
   "cell_type": "code",
   "execution_count": null,
   "metadata": {},
   "outputs": [],
   "source": []
  }
 ],
 "metadata": {
  "kernelspec": {
   "display_name": "Python 3",
   "language": "python",
   "name": "python3"
  },
  "language_info": {
   "codemirror_mode": {
    "name": "ipython",
    "version": 3
   },
   "file_extension": ".py",
   "mimetype": "text/x-python",
   "name": "python",
   "nbconvert_exporter": "python",
   "pygments_lexer": "ipython3",
   "version": "3.10.12"
  }
 },
 "nbformat": 4,
 "nbformat_minor": 2
}
