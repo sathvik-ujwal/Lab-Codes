{
 "cells": [
  {
   "cell_type": "code",
   "execution_count": 1,
   "metadata": {},
   "outputs": [],
   "source": [
    "# Implement a PySpark script that applies transformations like filter and\n",
    "# withColumn on a DataFrame.\n",
    "# Write a PySpark script that performs actions like count and show on a DataFrame.\n",
    "# Demonstrate how to perform basic aggregations (e.g., sum, average) on a PySpark\n",
    "# DataFrame.\n",
    "# Show how to write a PySpark DataFrame to a CSV file."
   ]
  },
  {
   "cell_type": "code",
   "execution_count": 19,
   "metadata": {},
   "outputs": [],
   "source": [
    "from pyspark.sql import SparkSession\n",
    "import pandas as pd\n",
    "from pyspark.sql.functions import filter, col, max, avg\n",
    "import warnings\n",
    "warnings.filterwarnings(\"ignore\")"
   ]
  },
  {
   "cell_type": "code",
   "execution_count": 5,
   "metadata": {},
   "outputs": [],
   "source": [
    "spark = SparkSession.builder.appName(\"DataFrame\").getOrCreate()"
   ]
  },
  {
   "cell_type": "code",
   "execution_count": 8,
   "metadata": {},
   "outputs": [
    {
     "name": "stdout",
     "output_type": "stream",
     "text": [
      "+----+------------+-----------+\n",
      "|Year|Silver Rates|Gold Prices|\n",
      "+----+------------+-----------+\n",
      "|1981|        2715|       1800|\n",
      "|1982|        2720|       1645|\n",
      "|1983|        3310|       1800|\n",
      "|1984|        3105|       1970|\n",
      "|1985|        3955|       2130|\n",
      "+----+------------+-----------+\n",
      "only showing top 5 rows\n",
      "\n"
     ]
    }
   ],
   "source": [
    "df = spark.read.csv(\"/home/sathvik/Documents/pyspark/Data/silver_prices.csv\" \\\n",
    "                    ,header=True, inferSchema=True)\n",
    "df.show(5)"
   ]
  },
  {
   "cell_type": "code",
   "execution_count": 13,
   "metadata": {},
   "outputs": [
    {
     "name": "stdout",
     "output_type": "stream",
     "text": [
      "+----+------------+-----------+-----------------+\n",
      "|Year|Silver Rates|Gold Prices|Gold Rates per kg|\n",
      "+----+------------+-----------+-----------------+\n",
      "|2004|       11170|      48651|          1564189|\n",
      "|2005|       10675|      35220|          1132366|\n",
      "|2006|       17405|      31438|          1010770|\n",
      "|2007|       19520|      29667|           953830|\n",
      "|2008|       23625|      28623|           920264|\n",
      "+----+------------+-----------+-----------------+\n",
      "only showing top 5 rows\n",
      "\n"
     ]
    }
   ],
   "source": [
    "df_filtered = df.filter(col(\"Silver Rates\") > 10000)\n",
    "transformed_df = df_filtered.withColumn(\"Gold Rates per Kg\", col(\"Gold Prices\")*(1000/31.103)).withColumn(\"Gold Rates per kg\", col(\"Gold Rates per kg\").cast(\"integer\"))\n",
    "transformed_df.show(5)"
   ]
  },
  {
   "cell_type": "code",
   "execution_count": 17,
   "metadata": {},
   "outputs": [
    {
     "name": "stdout",
     "output_type": "stream",
     "text": [
      "12\n"
     ]
    }
   ],
   "source": [
    "count = transformed_df.filter(col(\"Silver Rates\") > 30000).count()\n",
    "print(count)"
   ]
  },
  {
   "cell_type": "code",
   "execution_count": 22,
   "metadata": {},
   "outputs": [
    {
     "data": {
      "text/plain": [
       "37781.68421052631"
      ]
     },
     "execution_count": 22,
     "metadata": {},
     "output_type": "execute_result"
    }
   ],
   "source": [
    "avg_silver_price = transformed_df.agg(avg(\"Silver Rates\")).collect()[0][0]\n",
    "avg_silver_price\n",
    "# min, max, sum can also be performed the same way"
   ]
  },
  {
   "cell_type": "code",
   "execution_count": 27,
   "metadata": {},
   "outputs": [],
   "source": [
    "output_path = \"/home/sathvik/Documents/pyspark/Data/gold_rates.csv\"\n",
    "transformed_df.write.mode(\"overwrite\").option(\"header\", \"true\").csv(output_path)"
   ]
  },
  {
   "cell_type": "code",
   "execution_count": 28,
   "metadata": {},
   "outputs": [],
   "source": [
    "spark.stop()"
   ]
  }
 ],
 "metadata": {
  "kernelspec": {
   "display_name": "Python 3",
   "language": "python",
   "name": "python3"
  },
  "language_info": {
   "codemirror_mode": {
    "name": "ipython",
    "version": 3
   },
   "file_extension": ".py",
   "mimetype": "text/x-python",
   "name": "python",
   "nbconvert_exporter": "python",
   "pygments_lexer": "ipython3",
   "version": "3.10.12"
  }
 },
 "nbformat": 4,
 "nbformat_minor": 2
}
