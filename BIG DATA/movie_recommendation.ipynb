{
 "cells": [
  {
   "cell_type": "code",
   "execution_count": 29,
   "metadata": {},
   "outputs": [],
   "source": [
    "# Import necessary libraries\n",
    "from pyspark.sql import SparkSession\n",
    "from pyspark.ml.evaluation import RegressionEvaluator\n",
    "from pyspark.ml.recommendation import ALS\n",
    "from pyspark.sql.functions import col"
   ]
  },
  {
   "cell_type": "code",
   "execution_count": 30,
   "metadata": {},
   "outputs": [
    {
     "name": "stderr",
     "output_type": "stream",
     "text": [
      "24/08/19 10:21:36 WARN Utils: Service 'SparkUI' could not bind on port 4040. Attempting port 4041.\n",
      "24/08/19 10:21:36 WARN Utils: Service 'SparkUI' could not bind on port 4041. Attempting port 4042.\n"
     ]
    }
   ],
   "source": [
    "# Step 1: Initialize Spark Session\n",
    "spark = SparkSession.builder.appName(\"MovieRecommendationSystem\").getOrCreate()"
   ]
  },
  {
   "cell_type": "code",
   "execution_count": 31,
   "metadata": {},
   "outputs": [
    {
     "name": "stdout",
     "output_type": "stream",
     "text": [
      "root\n",
      " |-- helpfulness: string (nullable = true)\n",
      " |-- product_id: string (nullable = true)\n",
      " |-- profile_name: string (nullable = true)\n",
      " |-- review: string (nullable = true)\n",
      " |-- score: double (nullable = true)\n",
      " |-- summary: string (nullable = true)\n",
      " |-- time: long (nullable = true)\n",
      " |-- user_id: string (nullable = true)\n",
      "\n",
      "+-----------+----------+--------------------+--------------------+-----+--------------------+----------+--------------+\n",
      "|helpfulness|product_id|        profile_name|              review|score|             summary|      time|       user_id|\n",
      "+-----------+----------+--------------------+--------------------+-----+--------------------+----------+--------------+\n",
      "|        7/7|B003AI2VGA|Brian E. Erland \"...|Synopsis: On the ...|  3.0|\"There Is So Much...|1182729600|A141HP4LYPWMSR|\n",
      "|        4/4|B003AI2VGA|          Grady Harp|THE VIRGIN OF JUA...|  3.0|Worthwhile and Im...|1181952000|A328S9RN3U5M68|\n",
      "|       8/10|B003AI2VGA|Chrissy K. McVay ...|The scenes in thi...|  5.0|This movie needed...|1164844800|A1I7QGUDP043DG|\n",
      "|        1/1|B003AI2VGA|        golgotha.gov|THE VIRGIN OF JUA...|  3.0|distantly based o...|1197158400|A1M5405JH9THP9|\n",
      "|        1/1|B003AI2VGA|KerrLines \"&#34;M...|Informationally, ...|  3.0|\"What's going on ...|1188345600| ATXL536YX71TR|\n",
      "+-----------+----------+--------------------+--------------------+-----+--------------------+----------+--------------+\n",
      "only showing top 5 rows\n",
      "\n"
     ]
    }
   ],
   "source": [
    "# Step 2: Load the dataset\n",
    "file_path = \"/home/lplab/Documents/movies.json\"\n",
    "df = spark.read.json(file_path)\n",
    "\n",
    "# Print schema and show some data\n",
    "df.printSchema()\n",
    "df.show(5)"
   ]
  },
  {
   "cell_type": "code",
   "execution_count": 32,
   "metadata": {},
   "outputs": [],
   "source": [
    "# Step 3: Data Preprocessing\n",
    "# Select only relevant columns (user_id, product_id, score)\n",
    "df = df.select(col(\"user_id\"), col(\"product_id\"), col(\"score\"))\n",
    "\n",
    "# Rename columns for consistency\n",
    "df = df.withColumnRenamed(\"product_id\", \"item_id\")\n",
    "\n",
    "# Convert user_id and item_id to integer types by hashing (if they are strings)\n",
    "from pyspark.sql.functions import hash\n",
    "\n",
    "df = df.withColumn(\"user_id\", hash(col(\"user_id\")).cast(\"integer\"))\n",
    "df = df.withColumn(\"item_id\", hash(col(\"item_id\")).cast(\"integer\"))\n",
    "\n",
    "# Filter out rows with null values\n",
    "df = df.dropna()"
   ]
  },
  {
   "cell_type": "code",
   "execution_count": 33,
   "metadata": {},
   "outputs": [],
   "source": [
    "# Step 4: Split the data into training and test sets\n",
    "(train_data, test_data) = df.randomSplit([0.8, 0.2])"
   ]
  },
  {
   "cell_type": "code",
   "execution_count": 34,
   "metadata": {},
   "outputs": [],
   "source": [
    "# Step 5: Train the ALS model\n",
    "als = ALS(\n",
    "    maxIter=10,\n",
    "    regParam=0.1,\n",
    "    userCol=\"user_id\",\n",
    "    itemCol=\"item_id\",\n",
    "    ratingCol=\"score\",\n",
    "    coldStartStrategy=\"drop\"  # Drops NaN predictions\n",
    ")\n",
    "\n",
    "model = als.fit(train_data)"
   ]
  },
  {
   "cell_type": "code",
   "execution_count": 35,
   "metadata": {},
   "outputs": [
    {
     "name": "stdout",
     "output_type": "stream",
     "text": [
      "+-----------+----------+-----+----------+\n",
      "|    user_id|   item_id|score|prediction|\n",
      "+-----------+----------+-----+----------+\n",
      "|  196017723|-665333942|  5.0|  4.056804|\n",
      "|-2028851759|-665333942|  4.0| 4.0376124|\n",
      "| 2079407529|-115414658|  5.0|0.28418383|\n",
      "|-1389191369| 517765186|  3.0| 2.8997114|\n",
      "|-2129226941| 326629311|  3.0| 3.3773108|\n",
      "|    6595260| 517765186|  4.0| 3.8662815|\n",
      "| -774785816|1650418923|  3.0| 0.7135387|\n",
      "|-2000191253|1409269258|  5.0|  4.057887|\n",
      "|-1657497823| 517765186|  2.0| 1.9331408|\n",
      "|-1246849886| 517765186|  3.0| 2.8997114|\n",
      "+-----------+----------+-----+----------+\n",
      "only showing top 10 rows\n",
      "\n"
     ]
    }
   ],
   "source": [
    "# Step 6: Make predictions on the test data\n",
    "predictions = model.transform(test_data)\n",
    "\n",
    "# Show some predictions\n",
    "predictions.show(10)"
   ]
  },
  {
   "cell_type": "code",
   "execution_count": 36,
   "metadata": {},
   "outputs": [
    {
     "name": "stdout",
     "output_type": "stream",
     "text": [
      "Root-mean-square error (RMSE): 1.9013335557267244\n"
     ]
    }
   ],
   "source": [
    "# Step 7: Evaluate the model\n",
    "evaluator = RegressionEvaluator(\n",
    "    metricName=\"rmse\",\n",
    "    labelCol=\"score\",\n",
    "    predictionCol=\"prediction\"\n",
    ")\n",
    "rmse = evaluator.evaluate(predictions)\n",
    "print(f\"Root-mean-square error (RMSE): {rmse}\")"
   ]
  },
  {
   "cell_type": "code",
   "execution_count": 37,
   "metadata": {},
   "outputs": [
    {
     "name": "stderr",
     "output_type": "stream",
     "text": [
      "                                                                                \r"
     ]
    },
    {
     "name": "stdout",
     "output_type": "stream",
     "text": [
      "+---------+-------------------------------------------------------------------------------------------------------------------------------------------------------------------------------------------------------------------------------------------------------+\n",
      "|user_id  |recommendations                                                                                                                                                                                                                                        |\n",
      "+---------+-------------------------------------------------------------------------------------------------------------------------------------------------------------------------------------------------------------------------------------------------------+\n",
      "|196017723|[{-683828119, 6.621094}, {-1153537597, 6.5081396}, {-239574863, 6.020622}, {-453338225, 5.9918475}, {-910607049, 5.950754}, {-1681753400, 5.574095}, {-1820840231, 5.545782}, {-784450753, 5.5292044}, {-641338415, 5.492936}, {1907451089, 5.4801617}]|\n",
      "+---------+-------------------------------------------------------------------------------------------------------------------------------------------------------------------------------------------------------------------------------------------------------+\n",
      "\n"
     ]
    }
   ],
   "source": [
    "# Step 8: Print the top product recommendations for a specific user\n",
    "user_id = 196017723  # Replace with the hashed user_id you want to get recommendations for\n",
    "user_recs = model.recommendForAllUsers(10)\n",
    "user_recs.filter(col(\"user_id\") == user_id).show(truncate=False)"
   ]
  },
  {
   "cell_type": "code",
   "execution_count": 38,
   "metadata": {},
   "outputs": [
    {
     "name": "stdout",
     "output_type": "stream",
     "text": [
      "+---------+---------------------------------------------------------------------------------------------------------------------------------------------------------------------------------------------------------------------------------------------+\n",
      "|item_id  |recommendations                                                                                                                                                                                                                              |\n",
      "+---------+---------------------------------------------------------------------------------------------------------------------------------------------------------------------------------------------------------------------------------------------+\n",
      "|517765186|[{916287897, 4.893393}, {1424393811, 4.832852}, {1382091941, 4.832852}, {1251825974, 4.832852}, {1205080985, 4.832852}, {1197234795, 4.832852}, {1079193887, 4.832852}, {956841423, 4.832852}, {693021486, 4.832852}, {-474778592, 4.832852}]|\n",
      "+---------+---------------------------------------------------------------------------------------------------------------------------------------------------------------------------------------------------------------------------------------------+\n",
      "\n"
     ]
    }
   ],
   "source": [
    "# Step 9: Print the top user recommendations for a specific product\n",
    "item_id = 517765186  # Replace with the hashed item_id you want to get recommendations for\n",
    "item_recs = model.recommendForAllItems(10)\n",
    "item_recs.filter(col(\"item_id\") == item_id).show(truncate=False)\n",
    "\n",
    "# Stop the Spark session\n",
    "spark.stop()"
   ]
  },
  {
   "cell_type": "code",
   "execution_count": null,
   "metadata": {},
   "outputs": [],
   "source": []
  }
 ],
 "metadata": {
  "kernelspec": {
   "display_name": "Python 3",
   "language": "python",
   "name": "python3"
  },
  "language_info": {
   "codemirror_mode": {
    "name": "ipython",
    "version": 3
   },
   "file_extension": ".py",
   "mimetype": "text/x-python",
   "name": "python",
   "nbconvert_exporter": "python",
   "pygments_lexer": "ipython3",
   "version": "3.10.12"
  }
 },
 "nbformat": 4,
 "nbformat_minor": 2
}
