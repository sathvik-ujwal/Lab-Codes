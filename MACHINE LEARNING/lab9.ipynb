{
 "cells": [
  {
   "cell_type": "markdown",
   "id": "a0ae6b67",
   "metadata": {},
   "source": [
    "## Question 1"
   ]
  },
  {
   "cell_type": "code",
   "execution_count": 3,
   "id": "b77ba024",
   "metadata": {},
   "outputs": [],
   "source": [
    "import pandas as pd\n",
    "import numpy as np"
   ]
  },
  {
   "cell_type": "code",
   "execution_count": 4,
   "id": "35a25c9a",
   "metadata": {},
   "outputs": [],
   "source": [
    "class Node:\n",
    "    def __init__(self, feature=None, threshold=None, left=None, right=None, output=None):\n",
    "        self.feature = feature\n",
    "        self.threshold = threshold\n",
    "        self.left = left\n",
    "        self.right = right\n",
    "        self.output = output"
   ]
  },
  {
   "cell_type": "code",
   "execution_count": 5,
   "id": "7d3fda46",
   "metadata": {},
   "outputs": [],
   "source": [
    "def calculate_entropy(y):\n",
    "    if len(y) == 0:\n",
    "        return 0\n",
    "    probs = np.bincount(y) / len(y)\n",
    "    return -np.sum([p * np.log2(p) for p in probs if p > 0])"
   ]
  },
  {
   "cell_type": "code",
   "execution_count": 6,
   "id": "c4b30ad4",
   "metadata": {},
   "outputs": [],
   "source": [
    "def split_data(x, y, feature, threshold):\n",
    "    left_indices = x[:, feature] == threshold\n",
    "    right_indices = ~left_indices\n",
    "    return x[left_indices], y[left_indices], x[right_indices], y[right_indices]"
   ]
  },
  {
   "cell_type": "code",
   "execution_count": 7,
   "id": "dc23bb2a",
   "metadata": {},
   "outputs": [],
   "source": [
    "def choose_best_feature(x, y, criterion='entropy'):\n",
    "    best_gain = -1\n",
    "    best_feature = -1\n",
    "    best_threshold = None\n",
    "    base_impurity = calculate_entropy(y) if criterion == 'entropy' else calculate_gini(y)\n",
    "\n",
    "    for feature in range(x.shape[1]):\n",
    "        thresholds = np.unique(x[:, feature])\n",
    "        for threshold in thresholds:\n",
    "            x_left, y_left, x_right, y_right = split_data(x, y, feature, threshold)\n",
    "\n",
    "            if len(y_left) == 0 or len(y_right) == 0:\n",
    "                continue\n",
    "\n",
    "            if criterion == 'entropy':\n",
    "                gain = base_impurity - (len(y_left) / len(y) * calculate_entropy(y_left) +\n",
    "                                         len(y_right) / len(y) * calculate_entropy(y_right))\n",
    "            else:\n",
    "                gini = (len(y_left) / len(y)) * calculate_gini(y_left) + (len(y_right) / len(y)) * calculate_gini(y_right)\n",
    "                gain = base_impurity - gini\n",
    "\n",
    "            if gain > best_gain:\n",
    "                best_gain = gain\n",
    "                best_feature = feature\n",
    "                best_threshold = threshold\n",
    "\n",
    "    return best_feature, best_threshold"
   ]
  },
  {
   "cell_type": "code",
   "execution_count": 17,
   "id": "587a354e",
   "metadata": {},
   "outputs": [],
   "source": [
    "def build_tree(x, y, criterion='entropy'):\n",
    "    if len(set(y)) == 1:\n",
    "        return Node(output=y[0]) \n",
    "\n",
    "    best_feature, best_threshold = choose_best_feature(x, y, criterion)\n",
    "\n",
    "    if best_feature == -1:\n",
    "        return Node(output=np.random.choice(y))\n",
    "\n",
    "    x_left, y_left, x_right, y_right = split_data(x, y, best_feature, best_threshold)\n",
    "\n",
    "    left_node = build_tree(x_left, y_left, criterion)\n",
    "    right_node = build_tree(x_right, y_right, criterion)\n",
    "\n",
    "    return Node(feature=best_feature, threshold=best_threshold, left=left_node, right=right_node)"
   ]
  },
  {
   "cell_type": "code",
   "execution_count": 9,
   "id": "d8dd746e",
   "metadata": {},
   "outputs": [],
   "source": [
    "def predict(tree, sample):\n",
    "    if tree.output is not None:\n",
    "        return tree.output\n",
    "\n",
    "    if sample[tree.feature] == tree.threshold:\n",
    "        return predict(tree.left, sample)\n",
    "    else:\n",
    "        return predict(tree.right, sample)"
   ]
  },
  {
   "cell_type": "code",
   "execution_count": 10,
   "id": "c28f218b",
   "metadata": {},
   "outputs": [],
   "source": [
    "def encode_features(x):\n",
    "    encodings = {}\n",
    "    for i in range(x.shape[1]):\n",
    "        unique_vals = list(set(x[:, i]))\n",
    "        encodings[i] = {val: idx for idx, val in enumerate(unique_vals)}\n",
    "        x[:, i] = [encodings[i][val] for val in x[:, i]]\n",
    "    return x, encodings"
   ]
  },
  {
   "cell_type": "code",
   "execution_count": 11,
   "id": "99f8a5f6",
   "metadata": {},
   "outputs": [],
   "source": [
    "def classify(sample, encoders, tree):\n",
    "    sample_encoded = [encoders[i][sample[i]] for i in range(len(sample))]\n",
    "    return predict(tree, sample_encoded)"
   ]
  },
  {
   "cell_type": "code",
   "execution_count": 16,
   "id": "b7522168",
   "metadata": {},
   "outputs": [
    {
     "name": "stdout",
     "output_type": "stream",
     "text": [
      "C4.5: Yes\n"
     ]
    }
   ],
   "source": [
    "data = {\n",
    "    'Outlook': ['Sunny', 'Sunny', 'Overcast', 'Rain', 'Rain', 'Rain', 'Overcast', 'Sunny', 'Sunny', 'Rain', 'Sunny', 'Overcast', 'Overcast', 'Rain'],\n",
    "    'Temperature': [85, 80, 83, 70, 68, 65, 64, 72, 69, 75, 75, 72, 81, 71],\n",
    "    'Humidity': [85, 90, 78, 96, 80, 70, 65, 95, 70, 80, 70, 90, 75, 80],\n",
    "    'Wind': ['Weak', 'Strong', 'Weak', 'Weak', 'Weak', 'Strong', 'Strong', 'Weak', 'Weak', 'Weak', 'Strong', 'Strong', 'Weak', 'Strong'],\n",
    "    'Decision': ['No', 'No', 'Yes', 'Yes', 'Yes', 'No', 'Yes', 'No', 'Yes', 'Yes', 'Yes', 'Yes', 'Yes', 'No']\n",
    "}\n",
    "df = pd.DataFrame(data)\n",
    "\n",
    "x = df[['Outlook', 'Temperature', 'Humidity', 'Wind']].values\n",
    "y = np.array([1 if label == 'Yes' else 0 for label in df['Decision']])\n",
    "\n",
    "x, encoders = encode_features(x)\n",
    "\n",
    "c45_tree = build_tree(x, y, criterion='entropy')\n",
    "\n",
    "sample = ['Sunny', 75, 70, 'Weak']\n",
    "\n",
    "result_c45 = classify(sample, encoders, c45_tree)\n",
    "print(\"C4.5:\", \"Yes\" if result_c45 == 1 else \"No\")"
   ]
  },
  {
   "cell_type": "markdown",
   "id": "5c55cba6",
   "metadata": {},
   "source": [
    "## Question 2"
   ]
  },
  {
   "cell_type": "code",
   "execution_count": 18,
   "id": "3dffc801",
   "metadata": {},
   "outputs": [],
   "source": [
    "def calculate_gini(y):\n",
    "    if len(y) == 0:\n",
    "        return 0\n",
    "    probs = np.bincount(y) / len(y)\n",
    "    return 1 - np.sum(probs**2)"
   ]
  },
  {
   "cell_type": "code",
   "execution_count": 19,
   "id": "40d33961",
   "metadata": {},
   "outputs": [
    {
     "name": "stdout",
     "output_type": "stream",
     "text": [
      "CART: Yes\n"
     ]
    }
   ],
   "source": [
    "cart_tree = build_tree(x, y, criterion='gini')\n",
    "\n",
    "result_cart = classify(sample, encoders, cart_tree)\n",
    "print(\"CART:\", \"Yes\" if result_cart == 1 else \"No\")"
   ]
  },
  {
   "cell_type": "markdown",
   "id": "164ad5c0",
   "metadata": {},
   "source": [
    "## Question 3"
   ]
  },
  {
   "cell_type": "code",
   "execution_count": 21,
   "id": "a3f1f26f",
   "metadata": {},
   "outputs": [
    {
     "name": "stdout",
     "output_type": "stream",
     "text": [
      "C4.5: Yes\n",
      "CART: Yes\n"
     ]
    }
   ],
   "source": [
    "import pandas as pd\n",
    "from sklearn.tree import DecisionTreeClassifier, export_text\n",
    "from sklearn.preprocessing import LabelEncoder\n",
    "\n",
    "data = {\n",
    "    'Income': ['Low', 'Low', 'Medium', 'Medium', 'High', 'High'],\n",
    "    'Credit': ['Good', 'Bad', 'Good', 'Bad', 'Good', 'Bad'],\n",
    "    'Loan Approved': ['Yes', 'No', 'Yes', 'Yes', 'Yes', 'No']\n",
    "}\n",
    "\n",
    "df = pd.DataFrame(data)\n",
    "x = df[['Income', 'Credit']].values\n",
    "y = np.array([1 if label == 'Yes' else 0 for label in df['Loan Approved']])\n",
    "\n",
    "x, encoders = encode_features(x)\n",
    "\n",
    "c45_tree = build_tree(x, y, criterion='entropy')\n",
    "cart_tree = build_tree(x, y, criterion='gini')\n",
    "\n",
    "sample = ['Medium', 'Good']\n",
    "\n",
    "result_c45 = classify(sample, encoders, c45_tree)\n",
    "print(\"C4.5:\", \"Yes\" if result_c45 == 1 else \"No\")\n",
    "\n",
    "result_cart = classify(sample, encoders, cart_tree)\n",
    "print(\"CART:\", \"Yes\" if result_cart == 1 else \"No\")"
   ]
  },
  {
   "cell_type": "code",
   "execution_count": 22,
   "id": "beb020bf",
   "metadata": {},
   "outputs": [
    {
     "name": "stdout",
     "output_type": "stream",
     "text": [
      "scikit-learn C4.5: Yes\n",
      "scikit-learn CART: Yes\n"
     ]
    }
   ],
   "source": [
    "def sklearn_decision_tree(x, y, criterion='entropy'):\n",
    "    clf = DecisionTreeClassifier(criterion=criterion)\n",
    "    clf.fit(x, y)\n",
    "    return clf\n",
    "\n",
    "x = df[['Income', 'Credit']].apply(LabelEncoder().fit_transform).values\n",
    "y = LabelEncoder().fit_transform(df['Loan Approved'])\n",
    "\n",
    "clf_c45 = sklearn_decision_tree(x, y, criterion='entropy')\n",
    "clf_cart = sklearn_decision_tree(x, y, criterion='gini')\n",
    "\n",
    "result_c45 = clf_c45.predict([x[2]])\n",
    "result_cart = clf_cart.predict([x[2]])\n",
    "\n",
    "print(\"scikit-learn C4.5:\", \"Yes\" if result_c45[0] == 1 else \"No\")\n",
    "print(\"scikit-learn CART:\", \"Yes\" if result_cart[0] == 1 else \"No\")"
   ]
  },
  {
   "cell_type": "code",
   "execution_count": null,
   "id": "983110b6",
   "metadata": {},
   "outputs": [],
   "source": []
  }
 ],
 "metadata": {
  "kernelspec": {
   "display_name": "Python 3 (ipykernel)",
   "language": "python",
   "name": "python3"
  },
  "language_info": {
   "codemirror_mode": {
    "name": "ipython",
    "version": 3
   },
   "file_extension": ".py",
   "mimetype": "text/x-python",
   "name": "python",
   "nbconvert_exporter": "python",
   "pygments_lexer": "ipython3",
   "version": "3.12.3"
  }
 },
 "nbformat": 4,
 "nbformat_minor": 5
}
