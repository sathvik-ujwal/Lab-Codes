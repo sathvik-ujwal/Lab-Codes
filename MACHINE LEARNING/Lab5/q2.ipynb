{
 "cells": [
  {
   "cell_type": "code",
   "execution_count": 2,
   "id": "d15a54d4-9412-462b-9016-9a8bee7cbf48",
   "metadata": {},
   "outputs": [],
   "source": [
    "import pandas as pd\n",
    "import numpy as np\n",
    "import matplotlib.pyplot as plt\n",
    "import warnings\n",
    "warnings.filterwarnings('ignore')"
   ]
  },
  {
   "cell_type": "code",
   "execution_count": 3,
   "id": "57dd91c2-f9de-458e-8375-d78316a57c5b",
   "metadata": {},
   "outputs": [
    {
     "data": {
      "text/html": [
       "<div>\n",
       "<style scoped>\n",
       "    .dataframe tbody tr th:only-of-type {\n",
       "        vertical-align: middle;\n",
       "    }\n",
       "\n",
       "    .dataframe tbody tr th {\n",
       "        vertical-align: top;\n",
       "    }\n",
       "\n",
       "    .dataframe thead th {\n",
       "        text-align: right;\n",
       "    }\n",
       "</style>\n",
       "<table border=\"1\" class=\"dataframe\">\n",
       "  <thead>\n",
       "    <tr style=\"text-align: right;\">\n",
       "      <th></th>\n",
       "      <th>Hours of Study</th>\n",
       "      <th>Pass</th>\n",
       "    </tr>\n",
       "  </thead>\n",
       "  <tbody>\n",
       "    <tr>\n",
       "      <th>0</th>\n",
       "      <td>1</td>\n",
       "      <td>0</td>\n",
       "    </tr>\n",
       "    <tr>\n",
       "      <th>1</th>\n",
       "      <td>2</td>\n",
       "      <td>0</td>\n",
       "    </tr>\n",
       "    <tr>\n",
       "      <th>2</th>\n",
       "      <td>3</td>\n",
       "      <td>0</td>\n",
       "    </tr>\n",
       "    <tr>\n",
       "      <th>3</th>\n",
       "      <td>4</td>\n",
       "      <td>0</td>\n",
       "    </tr>\n",
       "    <tr>\n",
       "      <th>4</th>\n",
       "      <td>5</td>\n",
       "      <td>1</td>\n",
       "    </tr>\n",
       "  </tbody>\n",
       "</table>\n",
       "</div>"
      ],
      "text/plain": [
       "   Hours of Study  Pass\n",
       "0               1     0\n",
       "1               2     0\n",
       "2               3     0\n",
       "3               4     0\n",
       "4               5     1"
      ]
     },
     "execution_count": 3,
     "metadata": {},
     "output_type": "execute_result"
    }
   ],
   "source": [
    "df = pd.DataFrame({\n",
    "    'Hours of Study': [1,2,3,4,5,6,7,8],\n",
    "    'Pass': [0,0,0,0,1,1,1,1]\n",
    "})\n",
    "\n",
    "x = df['Hours of Study'].to_numpy()\n",
    "y = df['Pass'].to_numpy()\n",
    "n = len(x)\n",
    "df.head()"
   ]
  },
  {
   "cell_type": "code",
   "execution_count": 4,
   "id": "deb91689-ebe6-4b4e-8125-e0e9b7fb019a",
   "metadata": {},
   "outputs": [],
   "source": [
    "def sigmoid(z):\n",
    "    return 1/(1+np.exp(-z))"
   ]
  },
  {
   "cell_type": "code",
   "execution_count": 25,
   "id": "64e3fbbc-972a-4d60-9de6-df1ba6dd226f",
   "metadata": {},
   "outputs": [
    {
     "name": "stdout",
     "output_type": "stream",
     "text": [
      "Intercept b0: -0.7506048747282789\n",
      "Coeffcient b1: 0.30865256885239073\n"
     ]
    }
   ],
   "source": [
    "b0 = 0\n",
    "b1 = 0\n",
    "\n",
    "alpha = 0.01\n",
    "errors = []\n",
    "epochs = 500\n",
    "epsilon = 1e-9\n",
    "\n",
    "for i in range(epochs):\n",
    "    z = b0 + b1*x\n",
    "    p = sigmoid(z)\n",
    "    error = p - y\n",
    "    errors.append(-1/n*(np.sum(y*np.log(p) + (1-y)*np.log(1-p))))\n",
    "    b0 = b0 - alpha*(1/n)*np.sum(error)\n",
    "    b1 = b1 - alpha*(1/n)*np.sum(error*x)\n",
    "    \n",
    "print(f\"Intercept b0: {b0}\")\n",
    "print(f\"Coeffcient b1: {b1}\")"
   ]
  },
  {
   "cell_type": "code",
   "execution_count": 26,
   "id": "a2b91174-de3f-4545-84cf-66a72c92b223",
   "metadata": {},
   "outputs": [
    {
     "name": "stdout",
     "output_type": "stream",
     "text": [
      "model intercept b0: [-5.26410791]\n",
      "model coefficent b1: [[1.16979937]]\n",
      "model predictions : [0 0 0 0 1 1 1 1]\n"
     ]
    }
   ],
   "source": [
    "from sklearn.linear_model import LogisticRegression\n",
    "x = x.reshape(-1,1)\n",
    "y = y.reshape(-1,1)\n",
    "model = LogisticRegression()\n",
    "model.fit(x,y)\n",
    "\n",
    "print(f\"model intercept b0: {model.intercept_}\")\n",
    "print(f\"model coefficent b1: {model.coef_}\")\n",
    "\n",
    "model_pred = model.predict(x)\n",
    "\n",
    "print(f\"model predictions : {model_pred}\")"
   ]
  },
  {
   "cell_type": "code",
   "execution_count": 27,
   "id": "ab85d854-c63e-487f-9baa-4213e4162244",
   "metadata": {},
   "outputs": [
    {
     "name": "stdout",
     "output_type": "stream",
     "text": [
      "predictions: [0, 0, 0, 0, 1, 1, 1, 1]\n",
      "accuracy: 100.0%\n"
     ]
    }
   ],
   "source": [
    "from sklearn.metrics import accuracy_score\n",
    "\n",
    "y_pred = b0 + b1*x\n",
    "y_pred = [1 if i > 0.5 else 0 for i in y_pred]\n",
    "print(f\"predictions:\", y_pred)\n",
    "\n",
    "print(f\"accuracy: {accuracy_score(y, y_pred)*100}%\")"
   ]
  },
  {
   "cell_type": "code",
   "execution_count": 28,
   "id": "cc0ba1d4-2c27-4cbe-bcf3-c5433e20802e",
   "metadata": {},
   "outputs": [
    {
     "data": {
      "image/png": "[encoded data removed]",
      "text/plain": [
       "<Figure size 640x480 with 1 Axes>"
      ]
     },
     "metadata": {},
     "output_type": "display_data"
    }
   ],
   "source": [
    "plt.plot(range(500), errors, color=\"green\", label=\"error vs epoch\")\n",
    "plt.legend()\n",
    "plt.show()"
   ]
  },
  {
   "cell_type": "code",
   "execution_count": null,
   "id": "64a09d87-4cbb-49c4-8a1f-fb5a790dbcbc",
   "metadata": {
    "scrolled": true
   },
   "outputs": [],
   "source": []
  },
  {
   "cell_type": "code",
   "execution_count": null,
   "id": "6c0f93ed-41a7-40c7-8ec6-04c58b5e91f8",
   "metadata": {},
   "outputs": [],
   "source": []
  }
 ],
 "metadata": {
  "kernelspec": {
   "display_name": "Python 3 (ipykernel)",
   "language": "python",
   "name": "python3"
  },
  "language_info": {
   "codemirror_mode": {
    "name": "ipython",
    "version": 3
   },
   "file_extension": ".py",
   "mimetype": "text/x-python",
   "name": "python",
   "nbconvert_exporter": "python",
   "pygments_lexer": "ipython3",
   "version": "3.10.12"
  }
 },
 "nbformat": 4,
 "nbformat_minor": 5
}
