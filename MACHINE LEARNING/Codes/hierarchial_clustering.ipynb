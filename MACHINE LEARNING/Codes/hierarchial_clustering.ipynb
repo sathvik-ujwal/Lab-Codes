{
  "nbformat": 4,
  "nbformat_minor": 0,
  "metadata": {
    "colab": {
      "provenance": [],
      "authorship_tag": "ABX9TyOzMrb918uxCHLMcuOmoY6F",
      "include_colab_link": true
    },
    "kernelspec": {
      "name": "python3",
      "display_name": "Python 3"
    },
    "language_info": {
      "name": "python"
    }
  },
  "cells": [
    {
      "cell_type": "markdown",
      "metadata": {
        "id": "view-in-github",
        "colab_type": "text"
      },
      "source": [
        "<a href=\"https://colab.research.google.com/github/sathvik-ujwal/Lab-Codes/blob/main/MACHINE%20LEARNING/Codes/hierarchial_clustering.ipynb\" target=\"_parent\"><img src=\"https://colab.research.google.com/assets/colab-badge.svg\" alt=\"Open In Colab\"/></a>"
      ]
    },
    {
      "cell_type": "code",
      "execution_count": 1,
      "metadata": {
        "id": "bQ-ckb9KDxHy"
      },
      "outputs": [],
      "source": [
        "import pandas as pd\n",
        "import numpy as np\n",
        "import matplotlib.pyplot as plt"
      ]
    },
    {
      "cell_type": "code",
      "source": [
        "def calculate_distance(cluster1, cluster2, data, linkage=\"single\"):\n",
        "    if linkage == \"single\":\n",
        "        return np.min([np.linalg.norm(data[i] - data[j]) for i in cluster1 for j in cluster2])\n",
        "    elif linkage == \"complete\":\n",
        "        return np.max([np.linalg.norm(data[i] - data[j]) for i in cluster1 for j in cluster2])\n",
        "    elif linkage == \"average\":\n",
        "        distances = [np.linalg.norm(data[i] - data[j]) for i in cluster1 for j in cluster2]\n",
        "        return np.mean(distances)"
      ],
      "metadata": {
        "id": "CtmdviU4FP0T"
      },
      "execution_count": 6,
      "outputs": []
    },
    {
      "cell_type": "code",
      "source": [
        "def hierarchial_clustering(data, linkage=\"single\"):\n",
        "    clusters = [[i] for i in range(len(data))]\n",
        "\n",
        "    proximity_matrix = np.full((len(data), len(data)), np.inf)\n",
        "    for i in range(len(data)):\n",
        "        for j in range(i+1, len(data)):\n",
        "            proximity_matrix[i][j] = proximity_matrix[j][i] = calculate_distance([i], [j], data, linkage)\n",
        "\n",
        "    while len(clusters) > 1:\n",
        "        min_dist = np.inf\n",
        "        c1, c2 = -1, -1\n",
        "\n",
        "        for i in range(len(clusters)):\n",
        "            for j in range(i+1, len(clusters)):\n",
        "                dist = calculate_distance(clusters[i], clusters[j], data, linkage)\n",
        "                if dist < min_dist:\n",
        "                    min_dist = dist\n",
        "                    c1, c2 = i, j\n",
        "\n",
        "        clusters[c1] = clusters[c1] + clusters[c2]\n",
        "        del clusters[c2]\n",
        "\n",
        "        proximity_matrix = np.full((len(clusters), len(clusters)), np.inf)\n",
        "        for i in range(len(clusters)):\n",
        "            for j in range(1 + 1, len(clusters)):\n",
        "                proximity_matrix[i][j] = proximity_matrix[j][i] = calculate_distance(clusters[i], clusters[j], data, linkage)\n",
        "\n",
        "        print(f\"Clusters: {clusters}\")\n",
        "\n",
        "    return clusters\n"
      ],
      "metadata": {
        "id": "UyY9opXahp5e"
      },
      "execution_count": 9,
      "outputs": []
    },
    {
      "cell_type": "code",
      "source": [
        "data = np.array([18, 22, 25, 47, 43, 43]).reshape(-1, 1)\n",
        "final_clusters =hierarchial_clustering(data, linkage=\"single\")\n",
        "print(\"Final Cluster Structure:\", final_clusters)"
      ],
      "metadata": {
        "colab": {
          "base_uri": "https://localhost:8080/"
        },
        "id": "lo1xVqKml4q-",
        "outputId": "13c99156-ee2d-4864-b47a-7520a23e18d7"
      },
      "execution_count": 10,
      "outputs": [
        {
          "output_type": "stream",
          "name": "stdout",
          "text": [
            "Clusters: [[0], [1], [2], [3], [4, 5]]\n",
            "Clusters: [[0], [1, 2], [3], [4, 5]]\n",
            "Clusters: [[0, 1, 2], [3], [4, 5]]\n",
            "Clusters: [[0, 1, 2], [3, 4, 5]]\n",
            "Clusters: [[0, 1, 2, 3, 4, 5]]\n",
            "Final Cluster Structure: [[0, 1, 2, 3, 4, 5]]\n"
          ]
        }
      ]
    },
    {
      "cell_type": "markdown",
      "source": [],
      "metadata": {
        "id": "90X7gaK-oeX8"
      }
    },
    {
      "cell_type": "code",
      "source": [
        "from scipy.cluster.hierarchy import dendrogram, linkage\n",
        "\n",
        "linkage_matrix = linkage(data, method=\"single\")\n",
        "\n",
        "plt.figure(figsize=(8, 6))\n",
        "dendrogram(linkage_matrix, labels=data.flatten(), orientation=\"top\", distance_sort=\"descending\")\n",
        "plt.title(\"Dendogram for Hierarchical Clustering\")\n",
        "plt.xlabel(\"Data Points\")\n",
        "plt.ylabel(\"Distance\")\n",
        "plt.grid()\n",
        "plt.show()"
      ],
      "metadata": {
        "colab": {
          "base_uri": "https://localhost:8080/",
          "height": 581
        },
        "id": "ULlHy8DXmP1w",
        "outputId": "691a98e4-38ea-49e1-dd30-8d0e804cb348"
      },
      "execution_count": 13,
      "outputs": [
        {
          "output_type": "display_data",
          "data": {
            "text/plain": [
              "<Figure size 800x600 with 1 Axes>"
            ],
            "image/png": "[encoded data removed]"
          },
          "metadata": {}
        }
      ]
    },
    {
      "cell_type": "code",
      "source": [],
      "metadata": {
        "id": "sfSqQIsZpMkx"
      },
      "execution_count": null,
      "outputs": []
    }
  ]
}